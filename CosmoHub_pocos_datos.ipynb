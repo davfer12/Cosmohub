{
 "cells": [
  {
   "cell_type": "code",
   "execution_count": null,
   "metadata": {
    "scrolled": true
   },
   "outputs": [],
   "source": [
    "!pip install healpy"
   ]
  },
  {
   "cell_type": "code",
   "execution_count": null,
   "metadata": {},
   "outputs": [],
   "source": [
    "import matplotlib.pyplot as plt\n",
    ">>> import numpy as np\n",
    ">>> import healpy as hp\n",
    ">>> hp.mollview(np.arange(12))\n",
    ">>> plt.show()"
   ]
  },
  {
   "cell_type": "code",
   "execution_count": null,
   "metadata": {},
   "outputs": [],
   "source": [
    "import bz2\n",
    "import pandas as pd\n",
    "import numpy as np\n",
    "import scipy as sp\n",
    "import matplotlib.pyplot as plt\n",
    "import matplotlib as mpl\n",
    "from colossus.cosmology import cosmology  \n",
    "from colossus.halo import mass_so\n",
    "from colossus.lss import mass_function\n"
   ]
  },
  {
   "cell_type": "code",
   "execution_count": null,
   "metadata": {},
   "outputs": [],
   "source": [
    "data = pd.read_csv(\"9305.csv.bz2\", sep=\",\", comment='#', na_values=r'\\N')"
   ]
  },
  {
   "cell_type": "code",
   "execution_count": null,
   "metadata": {},
   "outputs": [],
   "source": [
    "unique_halo_id = data['unique_halo_id']\n",
    "v_vir_cosmohub = data['v_vir']\n",
    "z_cosmohub = data['z_cgal']\n",
    "M_cosmohub = data['lmhalo']\n",
    "ra_gal = data['ra_gal']\n",
    "dec_gal = data['dec_gal']"
   ]
  },
  {
   "cell_type": "code",
   "execution_count": null,
   "metadata": {},
   "outputs": [],
   "source": [
    "print(len(unique_halo_id),len(v_vir_cosmohub),len(z_cosmohub),len(M_cosmohub))"
   ]
  },
  {
   "cell_type": "code",
   "execution_count": null,
   "metadata": {},
   "outputs": [],
   "source": [
    "print(len(set(unique_halo_id)))"
   ]
  },
  {
   "cell_type": "code",
   "execution_count": null,
   "metadata": {},
   "outputs": [],
   "source": [
    "inds = []\n",
    "unique_halo_id_sin_repetir = []\n",
    "seen = set()\n",
    "for i, halo in enumerate(unique_halo_id):\n",
    "    if halo not in seen:\n",
    "        inds.append(i)\n",
    "        unique_halo_id_sin_repetir.append(halo)\n",
    "    seen.add(halo)"
   ]
  },
  {
   "cell_type": "code",
   "execution_count": null,
   "metadata": {},
   "outputs": [],
   "source": [
    "unique_halo_id = unique_halo_id_sin_repetir\n",
    "v_vir_cosmohub = v_vir_cosmohub[inds]\n",
    "z_cosmohub = z_cosmohub[inds]\n",
    "M_cosmohub = M_cosmohub[inds]\n",
    "ra_gal = ra_gal[inds]\n",
    "dec_gal = dec_gal[inds]"
   ]
  },
  {
   "cell_type": "code",
   "execution_count": null,
   "metadata": {},
   "outputs": [],
   "source": [
    "print(len(v_vir_cosmohub),len(z_cosmohub),len(M_cosmohub))"
   ]
  },
  {
   "cell_type": "code",
   "execution_count": null,
   "metadata": {},
   "outputs": [],
   "source": [
    "v_vir_0_1_cosmohub = []\n",
    "v_vir_1_2_cosmohub = []\n",
    "M_0_1_cosmohub = []\n",
    "M_1_2_cosmohub = []\n",
    "\n",
    "for z,v_vir,M in zip(z_cosmohub,v_vir_cosmohub,M_cosmohub):\n",
    "    if 1 > z >= 0:\n",
    "        v_vir_0_1_cosmohub.append(v_vir)\n",
    "        M_0_1_cosmohub.append(M)\n",
    "    if 2 > z >= 1:\n",
    "        v_vir_1_2_cosmohub.append(v_vir)\n",
    "        M_1_2_cosmohub.append(M)\n",
    "        \n",
    "v_vir_0_1_cosmohub = np.array(v_vir_0_1_cosmohub)\n",
    "v_vir_1_2_cosmohub = np.array(v_vir_1_2_cosmohub)\n",
    "M_0_1_cosmohub = np.array(M_0_1_cosmohub)\n",
    "M_1_2_cosmohub = np.array(M_1_2_cosmohub)\n",
    "\n",
    "M_0_1_cosmohub = 10**M_0_1_cosmohub\n",
    "M_1_2_cosmohub = 10**M_1_2_cosmohub\n",
    "M_cosmohub = 10**M_cosmohub\n",
    "M_cosmohub = np.array(M_cosmohub)"
   ]
  },
  {
   "cell_type": "code",
   "execution_count": null,
   "metadata": {},
   "outputs": [],
   "source": [
    "def vc(M,Omega_m,Omega_lambda,h,z):\n",
    "    Delta_c = mass_so.deltaVir(z)\n",
    "    v_c=96.6*((Delta_c*Omega_m*(h**2)/24.4)**(1/6))*(((1+z)/3.3)**(1/2))*((M/10**11)**(1/3))\n",
    "    return v_c"
   ]
  },
  {
   "cell_type": "code",
   "execution_count": null,
   "metadata": {
    "scrolled": false
   },
   "outputs": [],
   "source": [
    "params = cosmology.cosmologies['planck15']\n",
    "params['Om0'] = 0.25\n",
    "params['Ob0'] = 0.044\n",
    "params['Ode0'] = 0.75\n",
    "params['H0'] = 70\n",
    "params['sigma8'] = 0.8\n",
    "params['ns'] = 0.95\n",
    "cosmo = cosmology.setCosmology('planck15',params)\n",
    "\n",
    "\n",
    "# Parámetros de MICECAT (Best fit (WHISP))\n",
    "Omega_m = 0.25\n",
    "Omega_b = 0.044\n",
    "Omega_lambda = 0.75\n",
    "h = 0.7\n",
    "alpha = 0.17\n",
    "beta = -0.55\n",
    "v_c0 = 37.1535  #km/s\n",
    "v_c1 = 24547.08916 #km/s\n",
    "M=np.logspace(10,15,100)  #En unidades solares\n",
    "\n",
    "z = 0\n",
    "v_c_0=vc(M_cosmohub,Omega_m,Omega_lambda,h,z)\n",
    "\n",
    "z=1\n",
    "v_c_1=vc(M_cosmohub,Omega_m,Omega_lambda,h,z)\n",
    "\n",
    "z=2\n",
    "v_c_2=vc(M_cosmohub,Omega_m,Omega_lambda,h,z)\n",
    "\n",
    "\n",
    "\n",
    "plt.figure()\n",
    "plt.loglog(M_cosmohub,v_c_0,label='teórica z=0')\n",
    "plt.loglog(M_cosmohub,v_c_1,label='teórica z=1')\n",
    "plt.loglog(M_cosmohub,v_c_2,label='teórica z=2')\n",
    "plt.loglog(M_0_1_cosmohub,v_vir_0_1_cosmohub,label='cosmohub 1>z>0')\n",
    "plt.loglog(M_1_2_cosmohub,v_vir_1_2_cosmohub,label='cosmohub 2>z>1')\n",
    "plt.xlabel(r'$\\frac{M}{M_{\\odot}}$',fontsize=25)\n",
    "plt.ylabel(r'$v_{virial}(M)$',fontsize=25)\n",
    "plt.legend()\n",
    "plt.show()"
   ]
  },
  {
   "cell_type": "code",
   "execution_count": null,
   "metadata": {},
   "outputs": [],
   "source": [
    "def M_HI(M,alpha,beta,v_c0,v_c1,Omega_m,Omega_b,h,z,Delta_c,v_c):\n",
    "    #v_c=96.6*((Delta_c*Omega_m*(h**2)/24.4)**(1/6))*(((1+z)/3.3)**(1/2))*((M/10**11)**(1/3))\n",
    "    f=(Omega_b/Omega_m)*(0.75) # (1-Y)*Omega_b/Omega_m\n",
    "    return alpha*f*M*((M*h/1e11)**beta)*np.exp(-(v_c0/v_c)**3)*np.exp(-(v_c/v_c1)**3)"
   ]
  },
  {
   "cell_type": "code",
   "execution_count": null,
   "metadata": {
    "scrolled": false
   },
   "outputs": [],
   "source": [
    "mpl.rcParams['agg.path.chunksize'] = 10000\n",
    "M = np.logspace(10,15,1000)\n",
    "\n",
    "plt.figure()\n",
    "plt.loglog(M_cosmohub,M_HI(M_cosmohub,alpha,beta,v_c0,v_c1,Omega_m,Omega_b,h,z_cosmohub,mass_so.deltaVir(z_cosmohub),v_vir_cosmohub),'k.',label=r'M cosmohub $v_{vir}$ cosmohub')\n",
    "plt.loglog(M_cosmohub,M_HI(M_cosmohub,alpha,beta,v_c0,v_c1,Omega_m,Omega_b,h,z_cosmohub,mass_so.deltaVir(z_cosmohub),vc(M_cosmohub,Omega_m,Omega_lambda,h,z_cosmohub)),'r.',label=r'M cosmohub $v_{vir}$ teórica (z cosmohub)')\n",
    "plt.loglog(M,M_HI(M,alpha,beta,v_c0,v_c1,Omega_m,Omega_b,h,1,mass_so.deltaVir(1),vc(M,Omega_m,Omega_lambda,h,1)),'b-',label=r'M teórica $v_{vir}$ teórica (z=1)')\n",
    "plt.legend()\n",
    "plt.xlabel(r'$\\frac{M}{M_{\\odot}}$',fontsize=25)\n",
    "plt.ylabel(r'$\\frac{M_{HI}}{M_{\\odot}}$',fontsize=25)\n",
    "plt.show()"
   ]
  },
  {
   "cell_type": "code",
   "execution_count": null,
   "metadata": {
    "scrolled": true
   },
   "outputs": [],
   "source": [
    "M_0_8_0_9_cosmohub = []\n",
    "z_0_8_0_9_cosmohub = []\n",
    "ra_gal_0_8_0_9 = []\n",
    "dec_gal_0_8_0_9 = []\n",
    "v_vir_cosmohub_0_8_0_9 = []\n",
    "\n",
    "for z,M,ra,dec,v_vir in zip(z_cosmohub,M_cosmohub,ra_gal,dec_gal,v_vir_cosmohub):\n",
    "    if 0.9 >= z >= 0.8:\n",
    "        M_0_8_0_9_cosmohub.append(M)\n",
    "        z_0_8_0_9_cosmohub.append(z)\n",
    "        ra_gal_0_8_0_9.append(ra)\n",
    "        dec_gal_0_8_0_9.append(dec)\n",
    "        v_vir_cosmohub_0_8_0_9.append(v_vir)\n",
    "\n",
    "M_0_8_0_9_cosmohub = np.array(M_0_8_0_9_cosmohub)\n",
    "z_0_8_0_9_cosmohub = np.array(z_0_8_0_9_cosmohub)\n",
    "ra_gal_0_8_0_9 = np.array(ra_gal_0_8_0_9)\n",
    "dec_gal_0_8_0_9 = np.array(dec_gal_0_8_0_9)\n",
    "v_vir_cosmohub_0_8_0_9 = np.array(v_vir_cosmohub_0_8_0_9)\n",
    "\n",
    "M_intervalos = np.logspace(np.log10(min(M_0_8_0_9_cosmohub)),np.log10(max(M_0_8_0_9_cosmohub)),500)\n",
    "numbers = []\n",
    "\n",
    "for i in range(len(M_intervalos)-1):\n",
    "    indexes = np.where(np.logical_and(M_0_8_0_9_cosmohub>=M_intervalos[i], (M_0_8_0_9_cosmohub<=M_intervalos[i+1])))[0]\n",
    "    number = len(indexes)\n",
    "    numbers.append(number)\n",
    "\n",
    "M_intervalos = np.delete(M_intervalos,-1)\n",
    "numbers = np.array(numbers)"
   ]
  },
  {
   "cell_type": "code",
   "execution_count": null,
   "metadata": {},
   "outputs": [],
   "source": [
    "def n(Masa, z):\n",
    "    n = mass_function.massFunction(Masa, z, mdef = 'fof', model = 'crocce10', q_out = 'dndlnM')\n",
    "    return n"
   ]
  },
  {
   "cell_type": "code",
   "execution_count": null,
   "metadata": {},
   "outputs": [],
   "source": [
    "z = 0.85\n",
    "Masa = np.logspace(11,15)\n",
    "potencia = np.log10(Masa[1]/Masa[0])\n",
    "dMasa = Masa*(10**potencia-1)\n",
    "dMasa = np.array(dMasa)\n",
    "A = sum(n(Masa, z)*dMasa)\n",
    "A"
   ]
  },
  {
   "cell_type": "code",
   "execution_count": null,
   "metadata": {},
   "outputs": [],
   "source": [
    "def n(Masa, z):\n",
    "    n = (1/A)*mass_function.massFunction(Masa, z, mdef = 'fof', model = 'crocce10', q_out = 'dndlnM')\n",
    "    return n"
   ]
  },
  {
   "cell_type": "code",
   "execution_count": null,
   "metadata": {
    "scrolled": false
   },
   "outputs": [],
   "source": [
    "mhist,edges_mass = np.histogram(M_0_8_0_9_cosmohub,bins=100000)\n",
    "Mass_array = (edges_mass[:-1] + edges_mass[1:])/2\n",
    "dMasa = edges_mass[1:] - edges_mass[:-1]\n",
    "B = sum(mhist*dMasa)\n",
    "mhist = mhist/B\n",
    "\n",
    "plt.figure()\n",
    "plt.plot(Mass_array,mhist,label='halos MICE 0.9 > z > 0.8')\n",
    "plt.plot(Mass_array,n(Mass_array,0.8),label=r'n(M,z) ${(h/Mpc)}^3$ con z=0.80')\n",
    "plt.plot(Mass_array,n(Mass_array,0.85),label=r'n(M,z) ${(h/Mpc)}^3$ con z=0.85')\n",
    "plt.plot(Mass_array,n(Mass_array,0.9),label=r'n(M,z) ${(h/Mpc)}^3$ con z=0.90')\n",
    "plt.xlabel(r'$\\frac{M}{M_{\\odot}}$',fontsize=25)\n",
    "plt.ylabel('Cada uno con sus unidades')\n",
    "plt.xscale('log')\n",
    "plt.yscale('log')\n",
    "plt.title('Usando histogram')\n",
    "plt.legend()\n",
    "plt.show()\n"
   ]
  },
  {
   "cell_type": "code",
   "execution_count": null,
   "metadata": {},
   "outputs": [],
   "source": [
    "#En Mpc/h\n",
    "coords_x = data['xhalo']\n",
    "coords_y = data['yhalo']\n",
    "coords_z =data['zhalo']\n",
    "\n",
    "lado_x = max(coords_x)-min(coords_x)\n",
    "lado_y = max(coords_y)-min(coords_y)\n",
    "lado_z = max(coords_z)-min(coords_z)"
   ]
  },
  {
   "cell_type": "code",
   "execution_count": null,
   "metadata": {},
   "outputs": [],
   "source": [
    "print('Lado x Lado y Lado z')\n",
    "print(lado_x,lado_y,lado_z,' (Mpc/h)')"
   ]
  },
  {
   "cell_type": "code",
   "execution_count": null,
   "metadata": {},
   "outputs": [],
   "source": [
    "#En (Mpc/h)**3\n",
    "fSky = 1/8\n",
    "Vol = (4/3)*np.pi*(cosmo.comovingDistance(0,0.9,True)**3 - cosmo.comovingDistance(0,0.8,True)**3)*fSky\n",
    "Vol"
   ]
  },
  {
   "cell_type": "code",
   "execution_count": null,
   "metadata": {
    "scrolled": false
   },
   "outputs": [],
   "source": [
    "#Adimensional\n",
    "N_halos = n(Masa,z)*Vol\n",
    "\n",
    "\n",
    "z = 0.85\n",
    "\n",
    "plt.figure()\n",
    "plt.plot(Mass_array,mhist,label='halos MICE 0.9 > z > 0.8')\n",
    "plt.plot(Masa,N_halos,label=r'halos (n(M,z)Vol) con z=0.85')\n",
    "plt.xscale('log')\n",
    "plt.yscale('log')\n",
    "plt.xlabel(r'$\\frac{M}{M_{\\odot}}$',fontsize=25)\n",
    "plt.title('Usando histogram')\n",
    "plt.legend()\n",
    "plt.show()\n"
   ]
  },
  {
   "cell_type": "code",
   "execution_count": null,
   "metadata": {},
   "outputs": [],
   "source": [
    "#Adimensional\n",
    "\n",
    "\n",
    "\n",
    "z = 0.85\n",
    "\n",
    "plt.figure()\n",
    "plt.plot(Mass_array,mhist/Vol,label='halos MICE 0.9 > z > 0.8')\n",
    "plt.plot(Masa,n(Masa,z),label=r'halos (n(M,z)Vol) con z=0.85')\n",
    "plt.xscale('log')\n",
    "plt.yscale('log')\n",
    "plt.xlabel(r'$\\frac{M}{M_{\\odot}}$',fontsize=25)\n",
    "plt.title('Usando histogram')\n",
    "plt.legend()\n",
    "plt.show()\n"
   ]
  },
  {
   "cell_type": "code",
   "execution_count": null,
   "metadata": {},
   "outputs": [],
   "source": [
    "densidad_critica = cosmo.rho_c(0.7)*1e9/h\n",
    "print('Densidad crítica ',densidad_critica,'(7.85 10^11) Msol h^3 /Mpc^3')"
   ]
  },
  {
   "cell_type": "code",
   "execution_count": null,
   "metadata": {},
   "outputs": [],
   "source": [
    "print(max(coords_x),min(coords_x),'Mpc/h')\n",
    "print(max(coords_y),min(coords_y),'Mpc/h')\n",
    "print(max(coords_z),min(coords_z),'Mpc/h')"
   ]
  },
  {
   "cell_type": "markdown",
   "metadata": {},
   "source": [
    "Creamos un cubo de lado 3060 Mpc/h (por redondear) y lo dividimos en 128x128x128 celdas."
   ]
  },
  {
   "cell_type": "code",
   "execution_count": null,
   "metadata": {},
   "outputs": [],
   "source": [
    "Cubo_x = np.linspace(0,3060,129)  #101 fronteras para que haya 100 celdas\n",
    "Cubo_y = np.linspace(0,3060,129)  #101 fronteras para que haya 100 celdas\n",
    "Cubo_z = np.linspace(0,3060,129)  #101 fronteras para que haya 100 celdas\n",
    "\n",
    "Vcelda = (Cubo_x[1] - Cubo_x[0])**3\n",
    "print(Vcelda,'(Mpc/h)^3')"
   ]
  },
  {
   "cell_type": "code",
   "execution_count": null,
   "metadata": {},
   "outputs": [],
   "source": [
    "from bisect import bisect_left"
   ]
  },
  {
   "cell_type": "code",
   "execution_count": null,
   "metadata": {},
   "outputs": [],
   "source": [
    "#Se clasifican en celdas de manera que el límite superior de la celda cuenta \n",
    "#como la celda anterior (excepto el primer límite de la primera celda,\n",
    "#que cuenta como la primera celda)\n",
    "\n",
    "Densidad_3D_oscura = np.zeros((128,128,128))\n",
    "posiciones_x = []\n",
    "posiciones_y = []\n",
    "posiciones_z = []\n",
    "\n",
    "for x,y,z,m in zip(coords_x,coords_y,coords_z,M_cosmohub):\n",
    "    pos_x = bisect_left(Cubo_x, x)  #np.digitize\n",
    "    pos_x = pos_x - 1\n",
    "    if pos_x == -1:\n",
    "        pos_x = 0\n",
    "    pos_y = bisect_left(Cubo_y, y)\n",
    "    pos_y = pos_y - 1\n",
    "    if pos_y == -1:\n",
    "        pos_y = 0\n",
    "    pos_z = bisect_left(Cubo_z, z)\n",
    "    pos_z = pos_z - 1\n",
    "    if pos_z == -1:\n",
    "        pos_z = 0\n",
    "    posiciones_x.append(pos_x)\n",
    "    posiciones_y.append(pos_y)\n",
    "    posiciones_z.append(pos_z)\n",
    "    Densidad_3D_oscura[pos_x,pos_y,pos_z] = Densidad_3D_oscura[pos_x,pos_y,pos_z] + (m/Vcelda)\n",
    "    \n",
    "#Primer indice controla la matriz en la que está, el segundo la fila\n",
    "#y el tercero la columna de esa matriz."
   ]
  },
  {
   "cell_type": "code",
   "execution_count": null,
   "metadata": {},
   "outputs": [],
   "source": [
    "from mpl_toolkits.mplot3d import Axes3D\n",
    "import matplotlib"
   ]
  },
  {
   "cell_type": "code",
   "execution_count": null,
   "metadata": {
    "scrolled": false
   },
   "outputs": [],
   "source": [
    "plt.figure()\n",
    "fig_imshow = plt.imshow(Densidad_3D_oscura[:,:,50])\n",
    "plt.xlabel('Lado x')\n",
    "plt.ylabel('Lado y')\n",
    "plt.title('Materia Oscura')\n",
    "cbar = plt.colorbar(fig_imshow, extend='both')\n",
    "cbar.set_label(r'$\\rho_{Oscura} \\; (M_{\\odot}h^3/{Mpc}^3)$',fontsize=16)\n",
    "plt.show()\n"
   ]
  },
  {
   "cell_type": "code",
   "execution_count": null,
   "metadata": {},
   "outputs": [],
   "source": [
    "plt.figure()\n",
    "fig_imshow = plt.imshow((1/densidad_critica)*Densidad_3D_oscura[:,:,50])\n",
    "plt.xlabel('Lado x')\n",
    "plt.ylabel('Lado y')\n",
    "plt.title('Materia Oscura')\n",
    "cbar = plt.colorbar(fig_imshow, extend='both')\n",
    "cbar.set_label(r'$\\delta_c$',fontsize=16)\n",
    "plt.show()\n"
   ]
  },
  {
   "cell_type": "code",
   "execution_count": null,
   "metadata": {},
   "outputs": [],
   "source": [
    "plt.figure()\n",
    "fig_imshow = plt.imshow(Densidad_3D_oscura[30:70,30:70,50])\n",
    "plt.xlabel('Lado x')\n",
    "plt.ylabel('Lado y')\n",
    "plt.title('Materia Oscura')\n",
    "cbar = plt.colorbar(fig_imshow, extend='both')\n",
    "cbar.set_label(r'$\\rho_{Oscura} \\; (M_{\\odot}h^3/{Mpc}^3)$',fontsize=16)\n",
    "plt.show()\n"
   ]
  },
  {
   "cell_type": "code",
   "execution_count": null,
   "metadata": {},
   "outputs": [],
   "source": [
    "plt.figure()\n",
    "fig_imshow = plt.imshow((1/densidad_critica)*Densidad_3D_oscura[30:70,30:70,50])\n",
    "plt.xlabel('Lado x')\n",
    "plt.ylabel('Lado y')\n",
    "plt.title('Materia Oscura')\n",
    "cbar = plt.colorbar(fig_imshow, extend='both')\n",
    "cbar.set_label(r'$\\delta_c$',fontsize=16)\n",
    "plt.show()\n"
   ]
  },
  {
   "cell_type": "code",
   "execution_count": null,
   "metadata": {
    "scrolled": true
   },
   "outputs": [],
   "source": [
    "#fig = plt.figure()\n",
    "#ax = fig.gca(projection='3d')\n",
    "#ax.scatter(posiciones_x,posiciones_y,posiciones_z,s=0.001,c=M_cosmohub/Vcelda)\n",
    "#ax.set_xlabel('Lado x')\n",
    "#ax.set_ylabel('Lado y')\n",
    "#ax.set_zlabel('Lado z')\n",
    "#ax.set_title('Materia Oscura')\n",
    "#plt.show()"
   ]
  },
  {
   "cell_type": "code",
   "execution_count": null,
   "metadata": {
    "scrolled": false
   },
   "outputs": [],
   "source": [
    "print(max(dec_gal_0_8_0_9),min(dec_gal_0_8_0_9),'grados')\n",
    "print(max(ra_gal_0_8_0_9),min(ra_gal_0_8_0_9),'grados')"
   ]
  },
  {
   "cell_type": "code",
   "execution_count": null,
   "metadata": {},
   "outputs": [],
   "source": [
    "print(max(dec_gal),min(dec_gal),'grados')\n",
    "print(max(ra_gal),min(ra_gal),'grados')"
   ]
  },
  {
   "cell_type": "markdown",
   "metadata": {},
   "source": [
    "Cortar en 0 a 90 para ambas"
   ]
  },
  {
   "cell_type": "markdown",
   "metadata": {},
   "source": [
    "Curioso que la ra solo vaya entre 0 y 90 para las galaxias de estos redshift. Cogiendo todo el catálogo, iban entre -270 y 90. Cortar entre 0 y 90."
   ]
  },
  {
   "cell_type": "code",
   "execution_count": null,
   "metadata": {},
   "outputs": [],
   "source": [
    "lado_ra = np.linspace(0,90,129)  #129 fronteras para que haya 128 celdas\n",
    "lado_dec = (180/np.pi)*np.arccos(np.linspace(np.cos(0),np.cos(np.pi/2),129))\n",
    "lado_dec_lin = np.linspace(0,90,129)\n",
    "lado_dec_izq = lado_dec[:-1]\n",
    "lado_dec_der = lado_dec[1:]\n",
    "lado_dec_lin_izq = lado_dec_lin[:-1]\n",
    "lado_dec_lin_der = lado_dec_lin[1:]\n",
    "\n",
    "\n",
    "delta_ra = lado_ra[1] - lado_ra[0]\n",
    "delta_dec = lado_dec[1] - lado_dec[0]\n",
    "\n",
    "Vcelda_esferica = (((np.cos(lado_dec_izq*2*np.pi/360)-np.cos(lado_dec_der*2*np.pi/360))*delta_ra*2*np.pi/360)/(4*np.pi))*(4/3)*np.pi*(cosmo.comovingDistance(0,0.9,transverse=False)**3-cosmo.comovingDistance(0,0.8,transverse=False)**3)\n",
    "Vcelda_esferica_lin = (((np.cos(lado_dec_lin_izq*2*np.pi/360)-np.cos(lado_dec_lin_der*2*np.pi/360))*delta_ra*2*np.pi/360)/(4*np.pi))*(4/3)*np.pi*(cosmo.comovingDistance(0,0.9,transverse=False)**3-cosmo.comovingDistance(0,0.8,transverse=False)**3)\n",
    "print(Vcelda_esferica,'(Mpc/h)^3')\n"
   ]
  },
  {
   "cell_type": "markdown",
   "metadata": {},
   "source": [
    "$V_{celda} = f_{Sky} \\; \\frac{4}{3} \\pi \\left({\\chi(z=0.9)}^3 - {\\chi(z=0.8)}^3 \\right)$\n",
    "\n",
    "$f_{Sky} = \\frac{\\int_{0}^{\\Delta \\theta} \\int_{0}^{\\Delta \\phi}{sen \\theta \\; d\\theta \\; d\\phi}}{\\int_{0}^{\\pi} \\int_{0}^{2\\pi} {sen \\theta \\; d\\theta \\; d\\phi}} = \\frac{\\left(1 - cos \\Delta\\theta \\right) \\; \\Delta \\phi }{4\\pi}$"
   ]
  },
  {
   "cell_type": "code",
   "execution_count": null,
   "metadata": {
    "scrolled": true
   },
   "outputs": [],
   "source": [
    "#Esta vez se van a ir guardando según sus coordenadas angulares\n",
    "\n",
    "#Se clasifican en celdas de manera que el límite superior de la celda cuenta \n",
    "#como la celda anterior (excepto el primer límite de la primera celda,\n",
    "#que cuenta como la primera celda).\n",
    "\n",
    "Densidad_0_8_0_9_2D_oscura = np.zeros((128,128))\n",
    "angulos_dec = []\n",
    "angulos_ra = []\n",
    "\n",
    "for dec,ra,m in zip(dec_gal_0_8_0_9,ra_gal_0_8_0_9,M_0_8_0_9_cosmohub):\n",
    "    ang_dec = bisect_left(lado_dec_lin, dec)  #np.digitize\n",
    "    ang_dec = ang_dec - 1\n",
    "    if ang_dec == -1:\n",
    "        ang_dec = 0\n",
    "    ang_ra = bisect_left(lado_ra, ra)\n",
    "    ang_ra = ang_ra - 1\n",
    "    if ang_ra == -1:\n",
    "        ang_ra = 0\n",
    "    angulos_dec.append(ang_dec)\n",
    "    angulos_ra.append(ang_ra)\n",
    "    Densidad_0_8_0_9_2D_oscura[ang_dec,ang_ra] = Densidad_0_8_0_9_2D_oscura[ang_dec,ang_ra] + m\n",
    "    \n",
    "#Primer indice controla la fila\n",
    "#y el segundo la columna de esa matriz."
   ]
  },
  {
   "cell_type": "code",
   "execution_count": null,
   "metadata": {},
   "outputs": [],
   "source": [
    "plt.figure()\n",
    "fig_imshow = plt.imshow(Densidad_0_8_0_9_2D_oscura)\n",
    "plt.xlabel('Ra')\n",
    "plt.ylabel('Dec')\n",
    "plt.title('Materia Oscura 0.8 < z < 0.9')\n",
    "cbar = plt.colorbar(fig_imshow, extend='both')\n",
    "cbar.set_label(r'$\\rho_{Oscura} \\; (M_{\\odot}h^3/{Mpc}^3)$',fontsize=16)\n",
    "plt.show()"
   ]
  },
  {
   "cell_type": "code",
   "execution_count": null,
   "metadata": {},
   "outputs": [],
   "source": [
    "plt.figure()\n",
    "fig_imshow = plt.imshow((1/densidad_critica)*Densidad_0_8_0_9_2D_oscura)\n",
    "plt.xlabel('Ra')\n",
    "plt.ylabel('Dec')\n",
    "plt.title('Materia Oscura 0.8 < z < 0.9')\n",
    "cbar = plt.colorbar(fig_imshow, extend='both')\n",
    "cbar.set_label(r'$\\delta_c$',fontsize=16)\n",
    "plt.show()"
   ]
  },
  {
   "cell_type": "code",
   "execution_count": null,
   "metadata": {},
   "outputs": [],
   "source": [
    "lado_ra_sample = np.linspace(35,40,100)  #129 fronteras para que haya 128 celdas\n",
    "lado_dec_sample = np.linspace(35,40,100)\n",
    "\n",
    "\n",
    "delta_ra_sample = lado_ra_sample[1] - lado_ra_sample[0]\n",
    "delta_dec = lado_dec[1] - lado_dec[0]\n",
    "\n",
    "Vcelda_esferica_sample = (((1-np.cos(delta_dec*2*np.pi/360))*delta_ra*2*np.pi/360)/(4*np.pi))*(4/3)*np.pi*(cosmo.comovingDistance(0,0.9,transverse=False)**3-cosmo.comovingDistance(0,0.8,transverse=False)**3)\n",
    "print(Vcelda_esferica,'(Mpc/h)^3')"
   ]
  },
  {
   "cell_type": "code",
   "execution_count": null,
   "metadata": {},
   "outputs": [],
   "source": [
    "#Esta vez se van a ir guardando según sus coordenadas angulares\n",
    "\n",
    "#Se clasifican en celdas de manera que el límite superior de la celda cuenta \n",
    "#como la celda anterior (excepto el primer límite de la primera celda,\n",
    "#que cuenta como la primera celda).\n",
    "\n",
    "dec_gal_sample = dec_gal_0_8_0_9[np.where((ra_gal_0_8_0_9>35)&(ra_gal_0_8_0_9<40)&(dec_gal_0_8_0_9>35)&(dec_gal_0_8_0_9<40))[0]]\n",
    "ra_gal_sample = ra_gal_0_8_0_9[np.where((ra_gal_0_8_0_9>35)&(ra_gal_0_8_0_9<40)&(dec_gal_0_8_0_9>35)&(dec_gal_0_8_0_9<40))[0]]\n",
    "M_sample = M_0_8_0_9_cosmohub[np.where((ra_gal_0_8_0_9>35)&(ra_gal_0_8_0_9<40)&(dec_gal_0_8_0_9>35)&(dec_gal_0_8_0_9<40))[0]]\n",
    "\n",
    "Densidad_sample_2D_oscura = np.zeros((100,100))\n",
    "\n",
    "angulos_dec = []\n",
    "angulos_ra = []\n",
    "\n",
    "for dec,ra,m in zip(dec_gal_sample,ra_gal_sample,M_sample):\n",
    "    ang_dec = bisect_left(lado_dec, dec)  #np.digitize\n",
    "    ang_dec = ang_dec - 1\n",
    "    if ang_dec == -1:\n",
    "        ang_dec = 0\n",
    "    ang_ra = bisect_left(lado_ra, ra)\n",
    "    ang_ra = ang_ra - 1\n",
    "    if ang_ra == -1:\n",
    "        ang_ra = 0\n",
    "    angulos_dec.append(ang_dec)\n",
    "    angulos_ra.append(ang_ra)\n",
    "    Densidad_sample_2D_oscura[ang_dec,ang_ra] = Densidad_sample_2D_oscura[ang_dec,ang_ra] + (m/Vcelda_esferica_sample)\n",
    "    \n",
    "#Primer indice controla la fila\n",
    "#y el segundo la columna de esa matriz."
   ]
  },
  {
   "cell_type": "code",
   "execution_count": null,
   "metadata": {
    "scrolled": true
   },
   "outputs": [],
   "source": [
    "plt.figure()\n",
    "fig_imshow = plt.imshow(Densidad_sample_2D_oscura)\n",
    "plt.xlabel('Ra')\n",
    "plt.ylabel('Dec')\n",
    "plt.title('Materia Oscura (0.8 < z < 0.9) (ra y dec 35 < 40)')\n",
    "cbar = plt.colorbar(fig_imshow, extend='both')\n",
    "cbar.set_label(r'$\\rho_{Oscura} \\; (M_{\\odot}h^3/{Mpc}^3)$',fontsize=16)\n",
    "plt.show()"
   ]
  },
  {
   "cell_type": "markdown",
   "metadata": {},
   "source": [
    "Poner los ángulos en los ejes"
   ]
  },
  {
   "cell_type": "code",
   "execution_count": null,
   "metadata": {},
   "outputs": [],
   "source": [
    "A12 = 2.876e-15 ##Hz\n",
    "h_planck =6.62607004e-34 #m2 kg / s\n",
    "nu21 = 1420e6 #Hz\n",
    "m_h = 1.673723e-27 #kg\n",
    "kboltz = 1.38064852e-23 #m2 kg s-2 K-1\n",
    "c_light_meter = 3.0e8 #ms-1"
   ]
  },
  {
   "cell_type": "code",
   "execution_count": null,
   "metadata": {},
   "outputs": [],
   "source": [
    "#Se clasifican en celdas de manera que el límite superior de la celda cuenta \n",
    "#como la celda anterior (excepto el primer límite de la primera celda,\n",
    "#que cuenta como la primera celda)\n",
    "\n",
    "Densidad_3D_HI = np.zeros((128,128,128))\n",
    "T_3D = np.zeros((128,128,128))\n",
    "\n",
    "posiciones_x = []\n",
    "posiciones_y = []\n",
    "posiciones_z = []\n",
    "\n",
    "for x,y,z,m,Z in zip(coords_x,coords_y,coords_z,M_HI(M_cosmohub,alpha,beta,v_c0,v_c1,Omega_m,Omega_b,h,z,mass_so.deltaVir(z_cosmohub),v_vir_cosmohub),z_cosmohub):\n",
    "    pos_x = bisect_left(Cubo_x, x)  #np.digitize\n",
    "    pos_x = pos_x - 1\n",
    "    if pos_x == -1:\n",
    "        pos_x = 0\n",
    "    pos_y = bisect_left(Cubo_y, y)\n",
    "    pos_y = pos_y - 1\n",
    "    if pos_y == -1:\n",
    "        pos_y = 0\n",
    "    pos_z = bisect_left(Cubo_z, z)\n",
    "    pos_z = pos_z - 1\n",
    "    if pos_z == -1:\n",
    "        pos_z = 0\n",
    "    posiciones_x.append(pos_x)\n",
    "    posiciones_y.append(pos_y)\n",
    "    posiciones_z.append(pos_z)\n",
    "    Densidad_3D_HI[pos_x,pos_y,pos_z] = Densidad_3D_HI[pos_x,pos_y,pos_z] + (m/Vcelda)\n",
    "    T_3D[pos_x,pos_y,pos_z] = T_3D[pos_x,pos_y,pos_z] + (3*h_planck*c_light_meter**3*A12)/(32*np.pi*kboltz*m_h*nu21**2)*((1+Z)**2)/(cosmo.Hz(Z))*(m/Vcelda)\n",
    "    \n",
    "#Primer indice controla la matriz en la que está, el segundo la fila\n",
    "#y el tercero la columna de esa matriz."
   ]
  },
  {
   "cell_type": "code",
   "execution_count": null,
   "metadata": {
    "scrolled": false
   },
   "outputs": [],
   "source": [
    "plt.figure()\n",
    "plt.imshow(Densidad_3D_HI[:,:,50])\n",
    "plt.xlabel('Lado x')\n",
    "plt.ylabel('Lado y')\n",
    "plt.title('HI')\n",
    "cbar = plt.colorbar(fig_imshow, extend='both')\n",
    "cbar.set_label(r'$\\rho_{HI} \\; (M_{\\odot}h^3/{Mpc}^3)$',fontsize=16)\n",
    "plt.show()"
   ]
  },
  {
   "cell_type": "markdown",
   "metadata": {},
   "source": [
    "Ese valor tan bajo no coincide con los valores que veo de la matriz. Parece que falta el exponente de 10?"
   ]
  },
  {
   "cell_type": "markdown",
   "metadata": {},
   "source": [
    "Divido la densidad de HI también entre la crítica o mejor eso solo para los halos?"
   ]
  },
  {
   "cell_type": "code",
   "execution_count": null,
   "metadata": {
    "scrolled": true
   },
   "outputs": [],
   "source": [
    "plt.figure()\n",
    "plt.imshow((1/densidad_critica)*Densidad_3D_HI[:,:,50])\n",
    "plt.xlabel('Lado x')\n",
    "plt.ylabel('Lado y')\n",
    "plt.title('HI')\n",
    "cbar = plt.colorbar(fig_imshow, extend='both')\n",
    "cbar.set_label(r'$\\delta_c$',fontsize=16)\n",
    "plt.show()"
   ]
  },
  {
   "cell_type": "markdown",
   "metadata": {},
   "source": [
    "Como es que la sobredensidad da igual que la densidad?"
   ]
  },
  {
   "cell_type": "code",
   "execution_count": null,
   "metadata": {},
   "outputs": [],
   "source": [
    "plt.figure()\n",
    "plt.imshow(Densidad_3D_HI[30:70,30:70,50])\n",
    "plt.xlabel('Lado x')\n",
    "plt.ylabel('Lado y')\n",
    "plt.title('HI')\n",
    "cbar = plt.colorbar(fig_imshow, extend='both')\n",
    "cbar.set_label(r'$\\rho_{HI} \\; (M_{\\odot}h^3/{Mpc}^3)$',fontsize=16)\n",
    "plt.show()"
   ]
  },
  {
   "cell_type": "code",
   "execution_count": null,
   "metadata": {},
   "outputs": [],
   "source": [
    "plt.figure()\n",
    "plt.imshow((1/densidad_critica)*Densidad_3D_HI[30:70,30:70,50])\n",
    "plt.xlabel('Lado x')\n",
    "plt.ylabel('Lado y')\n",
    "plt.title('HI')\n",
    "cbar = plt.colorbar(fig_imshow, extend='both')\n",
    "cbar.set_label(r'$\\delta_c$',fontsize=16)\n",
    "plt.show()"
   ]
  },
  {
   "cell_type": "code",
   "execution_count": null,
   "metadata": {},
   "outputs": [],
   "source": [
    "fig = plt.figure()\n",
    "ax = fig.gca(projection='3d')\n",
    "ax.scatter(posiciones_x,posiciones_y,posiciones_z,s=0.001,c=M_HI(M_cosmohub,alpha,beta,v_c0,v_c1,Omega_m,Omega_b,h,z,mass_so.deltaVir(z_cosmohub),v_vir_cosmohub)/Vcelda)\n",
    "ax.set_xlabel('Lado x')\n",
    "ax.set_ylabel('Lado y')\n",
    "ax.set_zlabel('Lado z')\n",
    "ax.set_title('HI')\n",
    "plt.show()"
   ]
  },
  {
   "cell_type": "code",
   "execution_count": null,
   "metadata": {},
   "outputs": [],
   "source": [
    "plt.figure()\n",
    "plt.imshow(T_3D[:,:,50])\n",
    "plt.xlabel('Lado x')\n",
    "plt.ylabel('Lado y')\n",
    "plt.title('Temperatura HI')\n",
    "cbar = plt.colorbar(fig_imshow, extend='both')\n",
    "cbar.set_label('T(K)',fontsize=16)\n",
    "plt.show()"
   ]
  },
  {
   "cell_type": "code",
   "execution_count": null,
   "metadata": {},
   "outputs": [],
   "source": [
    "#Ahora igual pero con las coordenadas angulares\n",
    "\n",
    "#Se clasifican en celdas de manera que el límite superior de la celda cuenta \n",
    "#como la celda anterior (excepto el primer límite de la primera celda,\n",
    "#que cuenta como la primera celda)\n",
    "\n",
    "Densidad_0_8_0_9_2D_HI = np.zeros((128,128))\n",
    "T_0_8_0_9_2D = np.zeros((128,128))\n",
    "angulos_dec = []\n",
    "angulos_ra = []\n",
    "\n",
    "for ra,dec,m,Z in zip(ra_gal_0_8_0_9,dec_gal_0_8_0_9,M_HI(M_0_8_0_9_cosmohub,alpha,beta,v_c0,v_c1,Omega_m,Omega_b,h,z,mass_so.deltaVir(z_0_8_0_9_cosmohub),v_vir_cosmohub_0_8_0_9),z_0_8_0_9_cosmohub):\n",
    "    ang_dec = bisect_left(lado_dec, dec)  #np.digitize\n",
    "    ang_dec = ang_dec - 1\n",
    "    if ang_dec == -1:\n",
    "        ang_dec = 0\n",
    "    ang_ra = bisect_left(lado_ra, ra)\n",
    "    ang_ra = ang_ra - 1\n",
    "    if ang_ra == -1:\n",
    "        ang_ra = 0\n",
    "    angulos_dec.append(ang_dec)\n",
    "    angulos_ra.append(ang_ra)\n",
    "    \n",
    "    Densidad_0_8_0_9_2D_HI[ang_dec,ang_ra] = Densidad_0_8_0_9_2D_HI[ang_dec,ang_ra] + (m/Vcelda_esferica)\n",
    "    T_0_8_0_9_2D[ang_dec,ang_ra] = T_0_8_0_9_2D[ang_dec,ang_ra] + (3*h_planck*c_light_meter**3*A12)/(32*np.pi*kboltz*m_h*nu21**2)*((1+Z)**2)/(cosmo.Hz(Z))*(m/Vcelda_esferica)\n",
    "    \n",
    "#Primer indice controla la fila y el segundo la columna de la matriz."
   ]
  },
  {
   "cell_type": "code",
   "execution_count": null,
   "metadata": {},
   "outputs": [],
   "source": [
    "plt.figure()\n",
    "fig_imshow = plt.imshow(Densidad_0_8_0_9_2D_HI)\n",
    "plt.xlabel('Ra')\n",
    "plt.ylabel('Dec')\n",
    "plt.title('HI 0.8 < z < 0.9')\n",
    "cbar = plt.colorbar(fig_imshow, extend='both')\n",
    "cbar.set_label(r'$\\rho_{HI} \\; (M_{\\odot}h^3/{Mpc}^3)$',fontsize=16)\n",
    "plt.show()"
   ]
  },
  {
   "cell_type": "code",
   "execution_count": null,
   "metadata": {},
   "outputs": [],
   "source": [
    "plt.figure()\n",
    "fig_imshow = plt.imshow((1/densidad_critica)*Densidad_0_8_0_9_2D_HI)\n",
    "plt.xlabel('Ra')\n",
    "plt.ylabel('Dec')\n",
    "plt.title('HI 0.8 < z < 0.9')\n",
    "cbar = plt.colorbar(fig_imshow, extend='both')\n",
    "cbar.set_label(r'$\\delta_c$',fontsize=16)\n",
    "plt.show()"
   ]
  },
  {
   "cell_type": "code",
   "execution_count": null,
   "metadata": {
    "scrolled": true
   },
   "outputs": [],
   "source": [
    "plt.figure()\n",
    "plt.imshow(T_0_8_0_9_2D)\n",
    "plt.xlabel('Ra')\n",
    "plt.ylabel('Dec')\n",
    "plt.title('Temperatura HI 0.8 < z < 0.9')\n",
    "cbar = plt.colorbar(fig_imshow, extend='both')\n",
    "cbar.set_label('T(K)',fontsize=16)\n",
    "plt.show()"
   ]
  },
  {
   "cell_type": "code",
   "execution_count": null,
   "metadata": {
    "scrolled": false
   },
   "outputs": [],
   "source": [
    "data"
   ]
  },
  {
   "cell_type": "code",
   "execution_count": null,
   "metadata": {
    "scrolled": true
   },
   "outputs": [],
   "source": [
    "z = 0.85\n",
    "\n",
    "plt.figure()\n",
    "plt.plot(M_intervalos,numbers/sum(numbers),label='halos MICE 0.9 > z > 0.8')\n",
    "plt.plot(Masa,n(Masa,z)/sum(n(Masa,z)),label=r'n(M,z) ${(h/Mpc)}^3 con z=0.85$')\n",
    "plt.xscale('log')\n",
    "plt.yscale('log')\n",
    "plt.xlabel(r'$\\frac{M}{M_{\\odot}}$',fontsize=25)\n",
    "plt.ylabel('Normalizado')\n",
    "plt.title('Usando intervalos')\n",
    "plt.legend()\n",
    "plt.show()"
   ]
  },
  {
   "cell_type": "code",
   "execution_count": null,
   "metadata": {
    "scrolled": false
   },
   "outputs": [],
   "source": [
    "#Adimensional\n",
    "N_halos = n(Masa,z)*Vol\n",
    "\n",
    "\n",
    "z = 0.85\n",
    "\n",
    "plt.figure()\n",
    "plt.plot(M_intervalos,numbers,label='halos MICE 0.9 > z > 0.8')\n",
    "plt.plot(Masa,N_halos,label=r'halos (n(M,z)Vol) con z=0.85')\n",
    "plt.xscale('log')\n",
    "plt.yscale('log')\n",
    "plt.xlabel(r'$\\frac{M}{M_{\\odot}}$',fontsize=25)\n",
    "plt.title('Usando intervalos')\n",
    "plt.legend()\n",
    "plt.show()"
   ]
  }
 ],
 "metadata": {
  "kernelspec": {
   "display_name": "Python 3",
   "language": "python",
   "name": "python3"
  },
  "language_info": {
   "codemirror_mode": {
    "name": "ipython",
    "version": 3
   },
   "file_extension": ".py",
   "mimetype": "text/x-python",
   "name": "python",
   "nbconvert_exporter": "python",
   "pygments_lexer": "ipython3",
   "version": "3.7.0"
  }
 },
 "nbformat": 4,
 "nbformat_minor": 2
}
